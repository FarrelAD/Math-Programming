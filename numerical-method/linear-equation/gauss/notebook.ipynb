{
 "cells": [
  {
   "cell_type": "markdown",
   "metadata": {},
   "source": [
    "# Formula\n",
    "\n",
    "From known system of linear equation, it will try to convert into augmented matrix form: \n",
    "$$[A|b]$$\n",
    "\n",
    "Then, the goal is to make the matrix AA into an upper triangular form:\n",
    "\n",
    "$$\n",
    "\\begin{bmatrix}\n",
    "a_{11} & a_{12} & \\cdots & a_{1n} & b_1 \\\\\n",
    "0 & a_{22}' & \\cdots & a_{2n}' & b_2' \\\\\n",
    "0 & 0 & \\cdots & a_{3n}' & b_3' \\\\\n",
    "\\vdots & \\vdots & \\ddots & \\vdots & \\vdots \\\\\n",
    "0 & 0 & \\cdots & a_{nn}' & b_n'\n",
    "\\end{bmatrix}\n",
    "$$"
   ]
  },
  {
   "cell_type": "code",
   "execution_count": 47,
   "metadata": {},
   "outputs": [],
   "source": [
    "# Install necessary library\n",
    "import numpy as np\n",
    "from ipywidgets import VBox, HBox, IntText, Button, Output, RadioButtons\n",
    "import matplotlib.pyplot as plt"
   ]
  },
  {
   "cell_type": "markdown",
   "metadata": {},
   "source": [
    "---\n",
    "# Manual"
   ]
  },
  {
   "cell_type": "code",
   "execution_count": 49,
   "metadata": {},
   "outputs": [],
   "source": [
    "def solve_manually(coefficients, constants):\n",
    "    A = np.array([[coeff.value for coeff in row] for row in coefficients], dtype=float)\n",
    "    B = np.array([const.value for const in constants], dtype=float)\n",
    "    \n",
    "    n = len(B)\n",
    "    \n",
    "    for i in range(n):\n",
    "        if A[i, i] == 0:\n",
    "            raise ValueError(f\"Zero pivot encountered at row {i}\")\n",
    "        \n",
    "        for j in range(i + 1, n):\n",
    "            factor = A[j, i] / A[i, i]\n",
    "            A[j, i:] -= factor * A[i, i:]\n",
    "            B[j] -= factor * B[i]\n",
    "    \n",
    "    solution = np.zeros(n)\n",
    "    for i in range(n - 1, -1, -1):\n",
    "        solution[i] = (B[i] - np.dot(A[i, i + 1:], solution[i + 1:])) / A[i, i]\n",
    "        \n",
    "    return solution"
   ]
  },
  {
   "cell_type": "markdown",
   "metadata": {},
   "source": [
    "---\n",
    "# Easy way\n",
    "Use `numpy.linalg.solve()` function to easily find the solution"
   ]
  },
  {
   "cell_type": "code",
   "execution_count": 38,
   "metadata": {},
   "outputs": [],
   "source": [
    "def solve_with_np_linalg_solve(coefficients, constants):\n",
    "    A = np.array([[coeff.value for coeff in row] for row in coefficients])\n",
    "    B = np.array([const.value for const in constants])\n",
    "            \n",
    "    return np.linalg.solve(A, B)"
   ]
  },
  {
   "cell_type": "markdown",
   "metadata": {},
   "source": [
    "---\n",
    "# Testing"
   ]
  },
  {
   "cell_type": "code",
   "execution_count": 48,
   "metadata": {},
   "outputs": [
    {
     "data": {
      "application/vnd.jupyter.widget-view+json": {
       "model_id": "d023d73e5fc74e59a312f18b1d03e34d",
       "version_major": 2,
       "version_minor": 0
      },
      "text/plain": [
       "VBox(children=(IntText(value=0, description='Matrix size:'), Button(button_style='info', description='Generate…"
      ]
     },
     "execution_count": 48,
     "metadata": {},
     "output_type": "execute_result"
    }
   ],
   "source": [
    "output = Output()\n",
    "\n",
    "size_input = IntText(value=0, description=\"Matrix size:\")\n",
    "generate_button = Button(description=\"Generate Form\", button_style='info')\n",
    "solve_button = Button(description=\"Solve\", button_style='success', disabled=True)\n",
    "method_selection = RadioButtons(options=['Manual', 'numpy.linalg.solve()'], description='Select method')\n",
    "matrix_area = VBox()\n",
    "\n",
    "def generate_form(_):\n",
    "    n = size_input.value\n",
    "    \n",
    "    coefficients = [[IntText(value=0, description=f\"a{i+1}{j+1}\") for j in range(n)] for i in range(n)]\n",
    "    constants = [IntText(value=0, description=f\"b{i+1}\") for i in range(n)]\n",
    "    \n",
    "    rows = [HBox(row + [constants[i]]) for i, row in enumerate(coefficients)]\n",
    "    form = VBox(rows)\n",
    "    \n",
    "    solve_button.coefficients = coefficients\n",
    "    solve_button.constants = constants\n",
    "    solve_button.disabled = False\n",
    "    \n",
    "    matrix_area.children = [form]\n",
    "    with output:\n",
    "        output.clear_output()\n",
    "\n",
    "def solve_linear_system(_):\n",
    "    coefficients = solve_button.coefficients\n",
    "    constants = solve_button.constants\n",
    "    \n",
    "    solution = None\n",
    "    \n",
    "    with output:\n",
    "        output.clear_output()\n",
    "        try:\n",
    "            if method_selection.value == 'Manual':\n",
    "                solution = solve_manually(coefficients, constants)\n",
    "            elif method_selection.value == 'numpy.linalg.solve()':\n",
    "                solution = solve_with_np_linalg_solve(coefficients, constants)\n",
    "                \n",
    "            print(\"Solution:\")\n",
    "            for i, x in enumerate(solution, start=1):\n",
    "                print(f\"x{i} = {x}\")\n",
    "        except Exception as e:\n",
    "            print(f\"Error: {e}\")\n",
    "    \n",
    "            \n",
    "\n",
    "generate_button.on_click(generate_form)\n",
    "solve_button.on_click(solve_linear_system)\n",
    "\n",
    "layout = VBox([\n",
    "    size_input,\n",
    "    generate_button,\n",
    "    matrix_area,\n",
    "    method_selection,\n",
    "    solve_button,\n",
    "    output\n",
    "])\n",
    "layout"
   ]
  }
 ],
 "metadata": {
  "kernelspec": {
   "display_name": "conda-project-first",
   "language": "python",
   "name": "python3"
  },
  "language_info": {
   "codemirror_mode": {
    "name": "ipython",
    "version": 3
   },
   "file_extension": ".py",
   "mimetype": "text/x-python",
   "name": "python",
   "nbconvert_exporter": "python",
   "pygments_lexer": "ipython3",
   "version": "3.12.3"
  }
 },
 "nbformat": 4,
 "nbformat_minor": 2
}
